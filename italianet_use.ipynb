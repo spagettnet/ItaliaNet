{
 "cells": [
  {
   "cell_type": "code",
   "execution_count": 1,
   "metadata": {
    "collapsed": true
   },
   "outputs": [],
   "source": [
    "MODEL_NAME = 'italiaNet_v4'\n",
    "IMG_SIZE = 128\n"
   ]
  },
  {
   "cell_type": "code",
   "execution_count": 2,
   "metadata": {},
   "outputs": [],
   "source": [
    "##CONSTRUCTING THE NETWORK##\n",
    "\n",
    "from tflearn.layers.core import input_data, fully_connected, dropout\n",
    "from tflearn.layers.conv import conv_2d, max_pool_2d\n",
    "from tflearn.layers.estimator import regression\n",
    "\n",
    "net = input_data(shape=(None,128,128,3))\n",
    "net = conv_2d(net, 32, 3, activation='relu',regularizer='L2')\n",
    "net = max_pool_2d(net, 2)\n",
    "\n",
    "net = conv_2d(net, 64, 3, activation='relu',regularizer='L2')\n",
    "net = max_pool_2d(net, 2)\n",
    "\n",
    "net = conv_2d(net, 128, 3, activation='relu',regularizer='L2')\n",
    "net = max_pool_2d(net, 2)\n",
    "\n",
    "net = conv_2d(net, 256, 3, activation='relu',regularizer='L2')\n",
    "net = max_pool_2d(net, 2)\n",
    "\n",
    "net = conv_2d(net, 512, 3, activation='relu',regularizer='L2')\n",
    "net = max_pool_2d(net, 2)\n",
    "\n",
    "net = fully_connected(net, 1024, activation='relu')\n",
    "net = dropout(net, 0.9)\n",
    "\n",
    "net = fully_connected(net, 2, activation='softmax')\n",
    "\n",
    "net = regression(net, optimizer='adam', learning_rate=1e-4,\n",
    "                     loss='categorical_crossentropy')"
   ]
  },
  {
   "cell_type": "code",
   "execution_count": 3,
   "metadata": {},
   "outputs": [
    {
     "name": "stdout",
     "output_type": "stream",
     "text": [
      "INFO:tensorflow:Restoring parameters from /Users/default/Desktop/Code/Italianet/italiaNet_v4.model\n"
     ]
    }
   ],
   "source": [
    "#LOAD DATA FOR DISPLAY##\n",
    "import matplotlib.pyplot as plt\n",
    "import numpy as np\n",
    "import random\n",
    "from tflearn.models.dnn import DNN\n",
    "\n",
    "model = DNN(net)\n",
    "model.load('{}.model'.format(MODEL_NAME))"
   ]
  },
  {
   "cell_type": "code",
   "execution_count": 8,
   "metadata": {},
   "outputs": [],
   "source": [
    "##DISPLAY DATA##\n",
    "import h5py\n",
    "def batch_test():\n",
    "    h5f = h5py.File('dataset.h5', 'r')\n",
    "    imgs = np.asarray(h5f['X'])\n",
    "    labels = h5f['Y']\n",
    "    fig = plt.figure()\n",
    "    random.shuffle(imgs)\n",
    "\n",
    "    for num, data in enumerate(imgs[-12:]):\n",
    "        img_data = data\n",
    "        y = fig.add_subplot(3,4,num+1)\n",
    "        orig = img_data\n",
    "        data = img_data.reshape(IMG_SIZE, IMG_SIZE, 3)\n",
    "\n",
    "        model_out = model.predict([data])[0]\n",
    "\n",
    "        if np.argmax(model_out) == 1: str_label = 'Pizza'\n",
    "        else: str_label = 'Calzone'\n",
    "\n",
    "        pizzaness = round(model_out[1]*100, 2)\n",
    "\n",
    "       # if pizzaness >= 50:\n",
    "       #     str_label = '{}% pizza'.format(pizzaness)\n",
    "       # else:\n",
    "       #     str_label = '{}% calzone'.format(100-pizzaness)\n",
    "\n",
    "        y.imshow(orig)\n",
    "        plt.title(str_label, x=0.5, y=0.05, fontsize=11, bbox = dict(facecolor='white', alpha=0.5))\n",
    "        y.axes.get_xaxis().set_visible(False)\n",
    "        y.axes.get_yaxis().set_visible(False)\n",
    "\n",
    "    plt.show()"
   ]
  },
  {
   "cell_type": "code",
   "execution_count": 9,
   "metadata": {},
   "outputs": [],
   "source": [
    "def show_sample():\n",
    "    import cv2\n",
    "    import numpy as np\n",
    "    from matplotlib import pyplot as plt\n",
    "\n",
    "    img = cv2.imread(\"sample.jpg\")\n",
    "    orig = cv2.cvtColor(img, cv2.COLOR_BGR2RGB)\n",
    "\n",
    "    im = cv2.resize(orig,(128,128))/255\n",
    "\n",
    "    model_out = model.predict([im])[0]\n",
    "    print(model_out)\n",
    "    pizzaness = round(model_out[1]*100, 2)\n",
    "\n",
    "    if pizzaness >= 50:\n",
    "        str_label = '{}% Pizza'.format(pizzaness)\n",
    "    else:\n",
    "        str_label = '{}% Calzone'.format(100-pizzaness)\n",
    "\n",
    "    plt.imshow(orig,interpolation='nearest')\n",
    "    plt.title(str_label, x=0.5, y=0.85, fontsize=24, bbox = dict(facecolor='white', alpha=0.5))\n",
    "    plt.axis('off')\n",
    "    plt.show()\n"
   ]
  },
  {
   "cell_type": "code",
   "execution_count": 10,
   "metadata": {
    "collapsed": true
   },
   "outputs": [],
   "source": [
    "from tkinter import *\n",
    "import urllib.request\n",
    "from tkinter.filedialog import askopenfilename\n",
    "def process_img(from_web=False, link=''):\n",
    "    if from_web:\n",
    "        urllib.request.urlretrieve(link, \"input.jpg\")\n",
    "        return \"input.jpg\"\n",
    "    else:\n",
    "        root = Tk()\n",
    "        root.withdraw()\n",
    "        file_path = askopenfilename()\n",
    "        root.update()\n",
    "        root.destroy()\n",
    "\n",
    "        return file_path"
   ]
  },
  {
   "cell_type": "code",
   "execution_count": 11,
   "metadata": {
    "collapsed": true
   },
   "outputs": [],
   "source": [
    "import matplotlib.pyplot as plt\n",
    "import cv2\n",
    "def imgpath_to_plot(image_path):\n",
    "    #if you dont have this file yet\n",
    "    #test_data = process_test_data()\n",
    "    img = cv2.imread(image_path)\n",
    "    orig = cv2.cvtColor(img, cv2.COLOR_BGR2RGB)\n",
    "\n",
    "    im = cv2.resize(orig,(128,128))/255\n",
    "\n",
    "    model_out = model.predict([im])[0]\n",
    "    print(model_out)\n",
    "    pizzaness = round(model_out[1]*100, 2)\n",
    "\n",
    "    if pizzaness >= 50:\n",
    "        str_label = '{}% Pizza'.format(pizzaness)\n",
    "    else:\n",
    "        str_label = '{}% Calzone'.format(100-pizzaness)\n",
    "\n",
    "    plt.imshow(orig,interpolation='nearest')\n",
    "    plt.title(str_label, x=0.5, y=0.85, fontsize=24, bbox = dict(facecolor='white', alpha=0.5))\n",
    "    plt.axis('off')\n",
    "    plt.show()\n"
   ]
  },
  {
   "cell_type": "code",
   "execution_count": 12,
   "metadata": {
    "collapsed": true
   },
   "outputs": [],
   "source": [
    "from tkinter import *\n",
    "def main():\n",
    "    root = Tk() \n",
    "\n",
    "    def quit():\n",
    "        root.update()\n",
    "        root.destroy()\n",
    "\n",
    "    def link_from_web():\n",
    "        image_path = process_img(from_web = True, link = entry.get())\n",
    "        imgpath_to_plot(image_path)\n",
    "        quit()\n",
    "\n",
    "    def open_path():\n",
    "        image_path = process_img(from_web = False)\n",
    "        imgpath_to_plot(image_path)\n",
    "        quit()\n",
    "\n",
    "        \n",
    "    b1 = Button(root, text='Local image', command=open_path)\n",
    "    b2 = Button(root, text='From link', command=link_from_web)\n",
    "    b1.pack()#(row=0,column=0)\n",
    "    Label(root, text='or').pack()\n",
    "    b2.pack(side=LEFT)#(row=2,column=2)\n",
    "    \n",
    "    entry = Entry(root, width=10)\n",
    "    entry.pack(side=RIGHT)#(row=3,column=3)   \n",
    "    root.attributes(\"-topmost\", True)\n",
    "    root.mainloop()"
   ]
  },
  {
   "cell_type": "code",
   "execution_count": 13,
   "metadata": {},
   "outputs": [
    {
     "name": "stdout",
     "output_type": "stream",
     "text": [
      "[ 0.14448315  0.85551685]\n"
     ]
    },
    {
     "data": {
      "image/png": "[encoded data removed]",
      "text/plain": [
       "<matplotlib.figure.Figure at 0x11f6d5400>"
      ]
     },
     "metadata": {},
     "output_type": "display_data"
    }
   ],
   "source": [
    "import time\n",
    "from IPython.display import clear_output\n",
    "main()"
   ]
  },
  {
   "cell_type": "code",
   "execution_count": null,
   "metadata": {
    "collapsed": true
   },
   "outputs": [],
   "source": [
    "\n",
    "    "
   ]
  },
  {
   "cell_type": "code",
   "execution_count": null,
   "metadata": {
    "collapsed": true
   },
   "outputs": [],
   "source": []
  }
 ],
 "metadata": {
  "kernelspec": {
   "display_name": "Python 3",
   "language": "python",
   "name": "python3"
  },
  "language_info": {
   "codemirror_mode": {
    "name": "ipython",
    "version": 3
   },
   "file_extension": ".py",
   "mimetype": "text/x-python",
   "name": "python",
   "nbconvert_exporter": "python",
   "pygments_lexer": "ipython3",
   "version": "3.6.1"
  }
 },
 "nbformat": 4,
 "nbformat_minor": 2
}
